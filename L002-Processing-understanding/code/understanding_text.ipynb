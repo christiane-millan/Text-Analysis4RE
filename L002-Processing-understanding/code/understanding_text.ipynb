{
 "cells": [
  {
   "cell_type": "markdown",
   "metadata": {},
   "source": [
    "# Compresión del texto\n",
    "\n",
    "Dependencias y librerías necesarias:\n",
    "- nltk 3.1 o superior\n",
    "- spacy\n",
    "- pattern\n",
    "- Stanford parser\n",
    "- Graphviz"
   ]
  },
  {
   "cell_type": "code",
   "execution_count": null,
   "metadata": {},
   "outputs": [],
   "source": []
  }
 ],
 "metadata": {
  "language_info": {
   "name": "python"
  }
 },
 "nbformat": 4,
 "nbformat_minor": 2
}
