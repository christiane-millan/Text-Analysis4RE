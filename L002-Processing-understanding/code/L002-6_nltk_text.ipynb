{
 "cells": [
  {
   "cell_type": "markdown",
   "metadata": {},
   "source": [
    "# Ejemplo 6: NLTK Text\n",
    "\n",
    "__Objetivos__\n",
    "\n",
    "- Aprender a usar el objeto Text de la librería Nltk\n",
    "\n",
    "__Desarrollo__\n",
    "\n",
    "Vamos a utilizar la librería Nltk para explorar algunas técnicas básicas de procesamiento de lenguaje natural. Muchos de estos procedimientos normalmente sirven para preparar nuestros datos para entrenar un modelo o para realizar una visualización.\n",
    "\n",
    "---"
   ]
  },
  {
   "cell_type": "code",
   "execution_count": 1,
   "metadata": {},
   "outputs": [],
   "source": [
    "import pandas as pd\n",
    "import nltk\n",
    "import seaborn as sns\n",
    "import matplotlib.pyplot as plt\n",
    "import numpy as np"
   ]
  },
  {
   "cell_type": "code",
   "execution_count": 2,
   "metadata": {},
   "outputs": [
    {
     "data": {
      "text/html": [
       "<div>\n",
       "<style scoped>\n",
       "    .dataframe tbody tr th:only-of-type {\n",
       "        vertical-align: middle;\n",
       "    }\n",
       "\n",
       "    .dataframe tbody tr th {\n",
       "        vertical-align: top;\n",
       "    }\n",
       "\n",
       "    .dataframe thead th {\n",
       "        text-align: right;\n",
       "    }\n",
       "</style>\n",
       "<table border=\"1\" class=\"dataframe\">\n",
       "  <thead>\n",
       "    <tr style=\"text-align: right;\">\n",
       "      <th></th>\n",
       "      <th>amazon_product_url</th>\n",
       "      <th>author</th>\n",
       "      <th>description</th>\n",
       "      <th>publisher</th>\n",
       "      <th>title</th>\n",
       "      <th>oid</th>\n",
       "      <th>bestsellers_date.numberLong</th>\n",
       "      <th>published_date.numberLong</th>\n",
       "      <th>rank.numberInt</th>\n",
       "      <th>rank_last_week.numberInt</th>\n",
       "      <th>weeks_on_list.numberInt</th>\n",
       "      <th>price.numberDouble</th>\n",
       "    </tr>\n",
       "  </thead>\n",
       "  <tbody>\n",
       "    <tr>\n",
       "      <th>0</th>\n",
       "      <td>http://www.amazon.com/The-Host-Novel-Stephenie...</td>\n",
       "      <td>Stephenie Meyer</td>\n",
       "      <td>Aliens have taken control of the minds and bod...</td>\n",
       "      <td>Little, Brown</td>\n",
       "      <td>THE HOST</td>\n",
       "      <td>5b4aa4ead3089013507db18c</td>\n",
       "      <td>1211587200000</td>\n",
       "      <td>1212883200000</td>\n",
       "      <td>2</td>\n",
       "      <td>1</td>\n",
       "      <td>3</td>\n",
       "      <td>25.99</td>\n",
       "    </tr>\n",
       "    <tr>\n",
       "      <th>1</th>\n",
       "      <td>http://www.amazon.com/Love-Youre-With-Emily-Gi...</td>\n",
       "      <td>Emily Giffin</td>\n",
       "      <td>A woman's happy marriage is shaken when she en...</td>\n",
       "      <td>St. Martin's</td>\n",
       "      <td>LOVE THE ONE YOU'RE WITH</td>\n",
       "      <td>5b4aa4ead3089013507db18d</td>\n",
       "      <td>1211587200000</td>\n",
       "      <td>1212883200000</td>\n",
       "      <td>3</td>\n",
       "      <td>2</td>\n",
       "      <td>2</td>\n",
       "      <td>24.95</td>\n",
       "    </tr>\n",
       "    <tr>\n",
       "      <th>2</th>\n",
       "      <td>http://www.amazon.com/The-Front-Garano-Patrici...</td>\n",
       "      <td>Patricia Cornwell</td>\n",
       "      <td>A Massachusetts state investigator and his tea...</td>\n",
       "      <td>Putnam</td>\n",
       "      <td>THE FRONT</td>\n",
       "      <td>5b4aa4ead3089013507db18e</td>\n",
       "      <td>1211587200000</td>\n",
       "      <td>1212883200000</td>\n",
       "      <td>4</td>\n",
       "      <td>0</td>\n",
       "      <td>1</td>\n",
       "      <td>22.95</td>\n",
       "    </tr>\n",
       "    <tr>\n",
       "      <th>3</th>\n",
       "      <td>http://www.amazon.com/Snuff-Chuck-Palahniuk/dp...</td>\n",
       "      <td>Chuck Palahniuk</td>\n",
       "      <td>An aging porn queens aims to cap her career by...</td>\n",
       "      <td>Doubleday</td>\n",
       "      <td>SNUFF</td>\n",
       "      <td>5b4aa4ead3089013507db18f</td>\n",
       "      <td>1211587200000</td>\n",
       "      <td>1212883200000</td>\n",
       "      <td>5</td>\n",
       "      <td>0</td>\n",
       "      <td>1</td>\n",
       "      <td>24.95</td>\n",
       "    </tr>\n",
       "    <tr>\n",
       "      <th>4</th>\n",
       "      <td>http://www.amazon.com/Sundays-at-Tiffanys-Jame...</td>\n",
       "      <td>James Patterson and Gabrielle Charbonnet</td>\n",
       "      <td>A woman finds an unexpected love</td>\n",
       "      <td>Little, Brown</td>\n",
       "      <td>SUNDAYS AT TIFFANY’S</td>\n",
       "      <td>5b4aa4ead3089013507db190</td>\n",
       "      <td>1211587200000</td>\n",
       "      <td>1212883200000</td>\n",
       "      <td>6</td>\n",
       "      <td>3</td>\n",
       "      <td>4</td>\n",
       "      <td>24.99</td>\n",
       "    </tr>\n",
       "  </tbody>\n",
       "</table>\n",
       "</div>"
      ],
      "text/plain": [
       "                                  amazon_product_url  \\\n",
       "0  http://www.amazon.com/The-Host-Novel-Stephenie...   \n",
       "1  http://www.amazon.com/Love-Youre-With-Emily-Gi...   \n",
       "2  http://www.amazon.com/The-Front-Garano-Patrici...   \n",
       "3  http://www.amazon.com/Snuff-Chuck-Palahniuk/dp...   \n",
       "4  http://www.amazon.com/Sundays-at-Tiffanys-Jame...   \n",
       "\n",
       "                                     author  \\\n",
       "0                           Stephenie Meyer   \n",
       "1                              Emily Giffin   \n",
       "2                         Patricia Cornwell   \n",
       "3                           Chuck Palahniuk   \n",
       "4  James Patterson and Gabrielle Charbonnet   \n",
       "\n",
       "                                         description      publisher  \\\n",
       "0  Aliens have taken control of the minds and bod...  Little, Brown   \n",
       "1  A woman's happy marriage is shaken when she en...   St. Martin's   \n",
       "2  A Massachusetts state investigator and his tea...         Putnam   \n",
       "3  An aging porn queens aims to cap her career by...      Doubleday   \n",
       "4                   A woman finds an unexpected love  Little, Brown   \n",
       "\n",
       "                      title                       oid  \\\n",
       "0                  THE HOST  5b4aa4ead3089013507db18c   \n",
       "1  LOVE THE ONE YOU'RE WITH  5b4aa4ead3089013507db18d   \n",
       "2                 THE FRONT  5b4aa4ead3089013507db18e   \n",
       "3                     SNUFF  5b4aa4ead3089013507db18f   \n",
       "4      SUNDAYS AT TIFFANY’S  5b4aa4ead3089013507db190   \n",
       "\n",
       "   bestsellers_date.numberLong  published_date.numberLong  rank.numberInt  \\\n",
       "0                1211587200000              1212883200000               2   \n",
       "1                1211587200000              1212883200000               3   \n",
       "2                1211587200000              1212883200000               4   \n",
       "3                1211587200000              1212883200000               5   \n",
       "4                1211587200000              1212883200000               6   \n",
       "\n",
       "   rank_last_week.numberInt  weeks_on_list.numberInt  price.numberDouble  \n",
       "0                         1                        3               25.99  \n",
       "1                         2                        2               24.95  \n",
       "2                         0                        1               22.95  \n",
       "3                         0                        1               24.95  \n",
       "4                         3                        4               24.99  "
      ]
     },
     "execution_count": 2,
     "metadata": {},
     "output_type": "execute_result"
    }
   ],
   "source": [
    "df = pd.read_json('../../datasets/new_york_times_bestsellers-clean.json')\n",
    "\n",
    "df.head()"
   ]
  },
  {
   "cell_type": "code",
   "execution_count": 3,
   "metadata": {},
   "outputs": [
    {
     "data": {
      "text/plain": [
       "title\n",
       "10TH ANNIVERSARY            Detective Lindsay Boxer and the Women’s Murder...\n",
       "11TH HOUR                   Detective Lindsay Boxer and the Women’s Murder...\n",
       "1225 CHRISTMAS TREE LANE    Puppies and an ex-husband loom large in the la...\n",
       "1356                        In the fourth book of the Grail Quest series, ...\n",
       "1Q84                        In 1980s Tokyo, a woman who punishes perpetrat...\n",
       "                                                  ...                        \n",
       "Z                           A novel based on the lives of Zelda and F. Sco...\n",
       "ZERO DAY                       A military investigator uncovers a conspiracy.\n",
       "ZERO HISTORY                Several characters from “Spook Country” return...\n",
       "ZONE ONE                      Fighting zombies in post-apocalyptic Manhattan.\n",
       "ZOO                         A young biologist warns world leaders about th...\n",
       "Name: description, Length: 754, dtype: object"
      ]
     },
     "execution_count": 3,
     "metadata": {},
     "output_type": "execute_result"
    }
   ],
   "source": [
    "grouped_by_title = df.groupby('title')['description'].max()\n",
    "grouped_by_title"
   ]
  },
  {
   "cell_type": "markdown",
   "metadata": {},
   "source": [
    "Primero hay que limpiar un poco nuestros textos:"
   ]
  },
  {
   "cell_type": "code",
   "execution_count": 4,
   "metadata": {},
   "outputs": [
    {
     "data": {
      "text/plain": [
       "title\n",
       "10TH ANNIVERSARY            detective lindsay boxer and the women’s murder...\n",
       "11TH HOUR                   detective lindsay boxer and the women’s murder...\n",
       "1225 CHRISTMAS TREE LANE    puppies and an ex-husband loom large in the la...\n",
       "1356                        in the fourth book of the grail quest series, ...\n",
       "1Q84                        in 1980s tokyo, a woman who punishes perpetrat...\n",
       "                                                  ...                        \n",
       "Z                           a novel based on the lives of zelda and f. sco...\n",
       "ZERO DAY                       a military investigator uncovers a conspiracy.\n",
       "ZERO HISTORY                several characters from “spook country” return...\n",
       "ZONE ONE                      fighting zombies in post-apocalyptic manhattan.\n",
       "ZOO                         a young biologist warns world leaders about th...\n",
       "Name: description, Length: 754, dtype: object"
      ]
     },
     "execution_count": 4,
     "metadata": {},
     "output_type": "execute_result"
    }
   ],
   "source": [
    "\n",
    "grouped_by_title = grouped_by_title.str.lower()\n",
    "grouped_by_title = grouped_by_title.str.strip()\n",
    "grouped_by_title = grouped_by_title.str.replace('[^\\w\\s]', '')\n",
    "grouped_by_title = grouped_by_title.str.replace('\\d', '')\n",
    "grouped_by_title = grouped_by_title.str.replace('\\\\n', '')\n",
    "grouped_by_title = grouped_by_title.dropna()\n",
    "\n",
    "grouped_by_title"
   ]
  },
  {
   "cell_type": "markdown",
   "metadata": {},
   "source": [
    "Construir un objeto Text con nuestros datos.\n",
    "\n",
    "Requisito:\n",
    "\n",
    "````\n",
    "nltk.download('punkt')\n",
    "````\n"
   ]
  },
  {
   "cell_type": "code",
   "execution_count": 5,
   "metadata": {},
   "outputs": [
    {
     "data": {
      "text/plain": [
       "title\n",
       "10TH ANNIVERSARY            [detective, lindsay, boxer, and, the, women, ’...\n",
       "11TH HOUR                   [detective, lindsay, boxer, and, the, women, ’...\n",
       "1225 CHRISTMAS TREE LANE    [puppies, and, an, ex-husband, loom, large, in...\n",
       "1356                        [in, the, fourth, book, of, the, grail, quest,...\n",
       "1Q84                        [in, 1980s, tokyo, ,, a, woman, who, punishes,...\n",
       "                                                  ...                        \n",
       "Z                           [a, novel, based, on, the, lives, of, zelda, a...\n",
       "ZERO DAY                    [a, military, investigator, uncovers, a, consp...\n",
       "ZERO HISTORY                [several, characters, from, “, spook, country,...\n",
       "ZONE ONE                    [fighting, zombies, in, post-apocalyptic, manh...\n",
       "ZOO                         [a, young, biologist, warns, world, leaders, a...\n",
       "Name: description, Length: 754, dtype: object"
      ]
     },
     "execution_count": 5,
     "metadata": {},
     "output_type": "execute_result"
    }
   ],
   "source": [
    "# Separamos cada oración en palabras\n",
    "tokenized = grouped_by_title.apply(nltk.word_tokenize)\n",
    "tokenized"
   ]
  },
  {
   "cell_type": "code",
   "execution_count": 6,
   "metadata": {},
   "outputs": [
    {
     "data": {
      "text/plain": [
       "<Text: detective lindsay boxer and the women ’ s...>"
      ]
     },
     "execution_count": 6,
     "metadata": {},
     "output_type": "execute_result"
    }
   ],
   "source": [
    "# Sumamos todas las listas para obtener una lista con todas las palabras en nuestro conjunto de datos\n",
    "# Creamos un objeto Text\n",
    "\n",
    "all_words = tokenized.sum()\n",
    "text = nltk.Text(all_words)\n",
    "\n",
    "text"
   ]
  },
  {
   "cell_type": "markdown",
   "metadata": {},
   "source": [
    "`concordance()` : Imprime una concordancia para la palabra. La coincidencia de palabras no distingue entre mayúsculas y minúsculas.\n",
    "\n",
    "[Referencia](https://tedboy.github.io/nlps/generated/generated/nltk.Text.concordance.html?highlight=concordance#nltk.Text.concordance)"
   ]
  },
  {
   "cell_type": "code",
   "execution_count": 7,
   "metadata": {},
   "outputs": [
    {
     "name": "stdout",
     "output_type": "stream",
     "text": [
      "Displaying 20 of 73 matches:\n",
      "tle of poitiers . in 1980s tokyo , a woman who punishes perpetrators of domesti\n",
      " mishandling an autopsy . a pregnant woman shows up in cedar cove on christmas \n",
      "r in a room above a stable . a young woman ’ s life is transformed by a mountai\n",
      "othing is as it seems . a middle-age woman takes a cross-country road trip with\n",
      " . a young , beautiful and ambitious woman ruthlessly ascends the heights of th\n",
      "ng of humans and heavenly beings . a woman in her late 30s marries the man of h\n",
      "phecy about the end of the world . a woman ’ s life is complicated by the fact \n",
      "ichidian universe , a smuggler and a woman warrior must fight together to survi\n",
      "loosa trilogy , two lawmen protect a woman one of them loves . in french ’ s fo\n",
      "an arcane society novel . a southern woman is forever changed by the betrayals \n",
      "ips ’ s earlier novels reappear as a woman persuades a friend to call off her w\n",
      "ot to kill thousands of citizens . a woman asks the boston detective d.d . warr\n",
      "ker in pursuing a dangerous case . a woman joins with her estranged former step\n",
      "s f.b.i . agent falls in love with a woman with a past . lara callandine , an e\n",
      "ealthy connecticut town , a divorced woman takes a job as an assistant to a fam\n",
      "gs . twenty-two years after a dublin woman stood up her intended groom , her ab\n",
      "ikki heat investigates the case of a woman whose body is found in a freezer . t\n",
      " . book 3 of the forerunner saga . a woman whose daughter has a dangerous birth\n",
      "hosen for him . searching for an old woman ’ s missing son , v. i. warshawski ,\n",
      "ent involving the lawyer ’ s son . a woman ‘ s secret makes it hard for her to \n"
     ]
    }
   ],
   "source": [
    "# Concordane muestra la ocurrencia de cada palabra\n",
    "text.concordance('woman', lines=20)"
   ]
  },
  {
   "cell_type": "markdown",
   "metadata": {},
   "source": [
    " Similitud de distribución `similar()`: encuentra otras palabras que aparezcan en los mismos contextos que la palabra especificada; lista las palabras más similares primero."
   ]
  },
  {
   "cell_type": "code",
   "execution_count": 8,
   "metadata": {},
   "outputs": [
    {
     "name": "stdout",
     "output_type": "stream",
     "text": [
      "man widow detective killer series war family case doctor friend boy\n",
      "target yacht sheriff murder accident dog nanny group secret\n"
     ]
    }
   ],
   "source": [
    "# similar regresa las palabras que aparecen en contextos similares al argumento\n",
    "text.similar('woman')"
   ]
  },
  {
   "cell_type": "code",
   "execution_count": 9,
   "metadata": {},
   "outputs": [
    {
     "name": "stdout",
     "output_type": "stream",
     "text": [
      "murder war world love crimes the killer battle resent administration\n",
      "country president eve life recovery night state summer eyes cop\n"
     ]
    }
   ],
   "source": [
    "\n",
    "text.similar('women')"
   ]
  },
  {
   "cell_type": "code",
   "execution_count": 10,
   "metadata": {},
   "outputs": [
    {
     "name": "stdout",
     "output_type": "stream",
     "text": [
      "Displaying 20 of 36 matches:\n",
      ". a woman in her late 30s marries the man of her dreams and reaches out to his \n",
      "r hides his male lover . a former hit man for the mob who has become a doctor i\n",
      "y the betrayals of her mother and the man she loves . intrigue on the planet sa\n",
      "85 . two agents are tracking the same man , a human trafficker who is now deali\n",
      "lorida for a missing girl and the con man who seduced her . a runaway girl and \n",
      "deployed to iraq . a distraught young man discovers that he has grown horns . a\n",
      "mpire of charis fights to survive . a man who kidnapped a 15-year-old girl cont\n",
      "i.a . stand in his way . when a young man finds a bag of diamonds , he gets the\n",
      "stigator maisie dobbs helps an indian man whose sister ’ s murder has been igno\n",
      "ttacks . a woman , her daughter and a man accused of murder evade the authoriti\n",
      "ooper becomes involved when a wealthy man assaults a maid in a manhattan hotel \n",
      "as christmas nears , a terminally ill man is preparing his family for his death\n",
      " air force base ; meanwhile , a young man ’ s mysterious death causes trouble a\n",
      "ed — before the f.b.i . can . after a man stumbles in front of the reporter mel\n",
      "er the woman he loved married another man , jake fisher discovers that neither \n",
      "eats on his wives , sends an innocent man to jail and tries to cash in on anoth\n",
      "ce brennan investigates the case of a man who seems to have died twice . jesse \n",
      "tor eve duncan undertakes a job for a man with dark secrets ; the first book in\n",
      "der at a remote abbey . a middle-aged man mourning his wife ’ s death is comfor\n",
      "r their high school romance ended , a man and woman who have gone their separat\n"
     ]
    }
   ],
   "source": [
    "text.concordance('man', lines=20)"
   ]
  },
  {
   "cell_type": "code",
   "execution_count": 11,
   "metadata": {},
   "outputs": [
    {
     "name": "stdout",
     "output_type": "stream",
     "text": [
      "woman killer widow murder war mystery case vampire disappearance boy\n",
      "target murderer yacht shooting priest detective the women baby series\n"
     ]
    }
   ],
   "source": [
    "text.similar('man')"
   ]
  },
  {
   "cell_type": "code",
   "execution_count": 12,
   "metadata": {},
   "outputs": [
    {
     "name": "stdout",
     "output_type": "stream",
     "text": [
      "book french president room novel west governor truth culprit males\n"
     ]
    }
   ],
   "source": [
    "text.similar('men')"
   ]
  },
  {
   "cell_type": "markdown",
   "metadata": {},
   "source": [
    "`common_context()` : encuentra contextos en los que puedan aparecer todas las palabras especificadas; y devuelva una distribución de frecuencia que asigne cada contexto al número de veces que se utilizó ese contexto.\n",
    "\n",
    "[Referencia](https://tedboy.github.io/nlps/generated/generated/nltk.ContextIndex.common_contexts.html?highlight=common%20_contexts#nltk.ContextIndex.common_contexts)"
   ]
  },
  {
   "cell_type": "code",
   "execution_count": 13,
   "metadata": {},
   "outputs": [
    {
     "name": "stdout",
     "output_type": "stream",
     "text": [
      "a_in a_with a_who young_s\n"
     ]
    }
   ],
   "source": [
    "# common_contexts regresa los contextos que comparten dos o más palabras\n",
    "text.common_contexts(['woman', 'man'])"
   ]
  },
  {
   "cell_type": "code",
   "execution_count": 14,
   "metadata": {},
   "outputs": [
    {
     "data": {
      "text/plain": [
       "14545"
      ]
     },
     "execution_count": 14,
     "metadata": {},
     "output_type": "execute_result"
    }
   ],
   "source": [
    "# Total de palabras\n",
    "len(text)"
   ]
  },
  {
   "cell_type": "code",
   "execution_count": 15,
   "metadata": {},
   "outputs": [
    {
     "data": {
      "text/plain": [
       "3226"
      ]
     },
     "execution_count": 15,
     "metadata": {},
     "output_type": "execute_result"
    }
   ],
   "source": [
    "# Total de palabras distintas\n",
    "len(set(text))"
   ]
  },
  {
   "cell_type": "code",
   "execution_count": 16,
   "metadata": {},
   "outputs": [
    {
     "data": {
      "text/plain": [
       "0.22179443107597113"
      ]
     },
     "execution_count": 16,
     "metadata": {},
     "output_type": "execute_result"
    }
   ],
   "source": [
    "\n",
    "# Cuantificando la riqueza léxica\n",
    "len(set(text)) / len(text)"
   ]
  },
  {
   "cell_type": "markdown",
   "metadata": {},
   "source": [
    "`collocations()` : Imprime las colocaciones derivadas del texto, ignorando _stopwords_."
   ]
  },
  {
   "cell_type": "code",
   "execution_count": 17,
   "metadata": {},
   "outputs": [
    {
     "name": "stdout",
     "output_type": "stream",
     "text": [
      "new york; serial killer; stone barrington; los angeles; writing\n",
      "pseudonymously; nora roberts; eve dallas; lt. eve; sookie stackhouse;\n",
      "anita blake; north carolina; eve duncan; dagger brotherhood; doc ford;\n",
      "jason bourne; lacey sherlock; mitch rapp; temperance brennan; forensic\n",
      "sculptor; alex cross\n"
     ]
    }
   ],
   "source": [
    "# Las colocaciones son pares de palabras (bigramas) que son inusualmente comunes en nuestro conjunto de datos\n",
    "text.collocations()"
   ]
  }
 ],
 "metadata": {
  "kernelspec": {
   "display_name": "dt4re2024A",
   "language": "python",
   "name": "python3"
  },
  "language_info": {
   "codemirror_mode": {
    "name": "ipython",
    "version": 3
   },
   "file_extension": ".py",
   "mimetype": "text/x-python",
   "name": "python",
   "nbconvert_exporter": "python",
   "pygments_lexer": "ipython3",
   "version": "3.11.5"
  }
 },
 "nbformat": 4,
 "nbformat_minor": 2
}
