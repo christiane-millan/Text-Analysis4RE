{
 "cells": [
  {
   "cell_type": "markdown",
   "metadata": {},
   "source": [
    "# Práctica 1.1 Análisis Exploratorio de Datos (AED)\n",
    "\n",
    "El Ánalisis Exploratorio de Datos es el proceso a través del cual se realiza una exploración de un nuevo conjunto de datos para conocer su contenido a profundidad. Este paso es extremadamente importante, puesto que ayuda a conocer cómo limpiar y reestructurar el conjunto de datos de manera con la finalidad de realizar un análisis y visualización de los datos."
   ]
  },
  {
   "cell_type": "code",
   "execution_count": null,
   "metadata": {},
   "outputs": [],
   "source": [
    "#"
   ]
  }
 ],
 "metadata": {
  "language_info": {
   "name": "python"
  }
 },
 "nbformat": 4,
 "nbformat_minor": 2
}
